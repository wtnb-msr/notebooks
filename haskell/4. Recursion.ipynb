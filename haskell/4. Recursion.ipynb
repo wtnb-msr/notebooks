{
 "cells": [
  {
   "cell_type": "markdown",
   "metadata": {},
   "source": [
    "# 4. Hello, 再帰！"
   ]
  },
  {
   "cell_type": "markdown",
   "metadata": {},
   "source": [
    "## 4.1 最高に最高"
   ]
  },
  {
   "cell_type": "code",
   "execution_count": null,
   "metadata": {
    "collapsed": false
   },
   "outputs": [],
   "source": [
    "-- リストの中の最大の要素を返す maximum' をつくる\n",
    "maximum' :: (Ord a) => [a] -> a\n",
    "maximum' [] = error \"empty!\"\n",
    "maximum' [x] = x\n",
    "maximum' (x:xs) = max x (maximum' xs)"
   ]
  },
  {
   "cell_type": "code",
   "execution_count": null,
   "metadata": {
    "collapsed": false
   },
   "outputs": [],
   "source": [
    "maximum' [1..100]\n",
    "maximum' ['z','y'..'a']"
   ]
  },
  {
   "cell_type": "markdown",
   "metadata": {},
   "source": [
    "## 4.2 更にいくつかの再帰関数"
   ]
  },
  {
   "cell_type": "markdown",
   "metadata": {},
   "source": [
    "### replicate"
   ]
  },
  {
   "cell_type": "code",
   "execution_count": null,
   "metadata": {
    "collapsed": true
   },
   "outputs": [],
   "source": [
    "-- Int x と Int y を受け取り、 x を y 回繰り返したリストを返す\n",
    "replicate' :: Int -> Int -> [Int]\n",
    "replicate' x 0 = []\n",
    "replicate' x y = x : (replicate' x (y - 1))"
   ]
  },
  {
   "cell_type": "code",
   "execution_count": null,
   "metadata": {
    "collapsed": false
   },
   "outputs": [],
   "source": [
    "replicate' 1 0\n",
    "replicate' 5 3 \n",
    "replicate' 5 (-1)"
   ]
  },
  {
   "cell_type": "code",
   "execution_count": null,
   "metadata": {
    "collapsed": false
   },
   "outputs": [],
   "source": [
    "-- y が負のケースを考慮できてなかった\n",
    "-- x の型も汎用に\n",
    "replicate' :: Int -> Int -> [Int]\n",
    "replicate' n x\n",
    "  | n <= 0 = []\n",
    "  | otherwise = x : replicate' (n - 1) x"
   ]
  },
  {
   "cell_type": "code",
   "execution_count": null,
   "metadata": {
    "collapsed": false
   },
   "outputs": [],
   "source": [
    "replicate' 1 0\n",
    "replicate' 5 3\n",
    "replicate' (-1) 3"
   ]
  },
  {
   "cell_type": "markdown",
   "metadata": {},
   "source": [
    "### take\n",
    "指定されたリストから指定された数の要素を返す\n",
    "\n",
    "take 3 [5,4,3,2,1] -> [5,4,3]"
   ]
  },
  {
   "cell_type": "code",
   "execution_count": null,
   "metadata": {
    "collapsed": false
   },
   "outputs": [],
   "source": [
    "take' :: Int -> [a] -> [a]\n",
    "take' n _\n",
    "  | n <= 0 = []\n",
    "take' _ [] = []\n",
    "take' n (x:xs) = x : take' (n - 1) xs"
   ]
  },
  {
   "cell_type": "code",
   "execution_count": null,
   "metadata": {
    "collapsed": false
   },
   "outputs": [],
   "source": [
    "take'  3 ['a'..'z']\n",
    "take'  3 []\n",
    "take'  0 [5..10]\n",
    "take' (-1) [5..10]"
   ]
  },
  {
   "cell_type": "markdown",
   "metadata": {},
   "source": [
    "### reverse\n",
    "リストを受け取り、同じ要素で逆順のリストを返す"
   ]
  },
  {
   "cell_type": "code",
   "execution_count": null,
   "metadata": {
    "collapsed": false
   },
   "outputs": [],
   "source": [
    "reverse' :: [a] -> [a]\n",
    "reverse' [] = []\n",
    "reverse' (x:xs) = reverse' xs ++ [x]"
   ]
  },
  {
   "cell_type": "code",
   "execution_count": null,
   "metadata": {
    "collapsed": false
   },
   "outputs": [],
   "source": [
    "reverse' [1..10]\n",
    "reverse' ['a'..'z']"
   ]
  },
  {
   "cell_type": "markdown",
   "metadata": {},
   "source": [
    "### repeat\n",
    "要素を受け取り、その要素の無限リストをかえす"
   ]
  },
  {
   "cell_type": "code",
   "execution_count": null,
   "metadata": {
    "collapsed": false
   },
   "outputs": [],
   "source": [
    "repeat' :: a -> [a]\n",
    "repeat' a = a : repeat' a"
   ]
  },
  {
   "cell_type": "code",
   "execution_count": null,
   "metadata": {
    "collapsed": false
   },
   "outputs": [],
   "source": [
    "take 5 (repeat' 10)\n",
    "repeat' 10"
   ]
  },
  {
   "cell_type": "markdown",
   "metadata": {},
   "source": [
    "### zip\n",
    "2つのリストを受け取り、それらを綴じ合わせて返す\n",
    " [1,2,3] ['a', 'b', c'] -> [(1,'a'),...]"
   ]
  },
  {
   "cell_type": "code",
   "execution_count": null,
   "metadata": {
    "collapsed": false
   },
   "outputs": [],
   "source": [
    "zip' :: [a] -> [b] -> [(a,b)]\n",
    "zip' [] _ = []\n",
    "zip' _ [] = []\n",
    "zip' (x:xs) (y:ys) = (x,y) : zip' xs ys"
   ]
  },
  {
   "cell_type": "code",
   "execution_count": null,
   "metadata": {
    "collapsed": false
   },
   "outputs": [],
   "source": [
    "zip' [1..10] ['a'..'z']\n",
    "zip' [] ['a'..'z']\n",
    "zip' [1..10] []"
   ]
  },
  {
   "cell_type": "markdown",
   "metadata": {},
   "source": [
    "### elem\n",
    "値とリストを受け取り、その値がリストに含まれているかどうか"
   ]
  },
  {
   "cell_type": "code",
   "execution_count": null,
   "metadata": {
    "collapsed": false
   },
   "outputs": [],
   "source": [
    "elem' :: Eq a => a -> [a] -> Bool\n",
    "elem' _ [] = False\n",
    "elem' v (x:xs) = v == x || elem' v xs"
   ]
  },
  {
   "cell_type": "code",
   "execution_count": null,
   "metadata": {
    "collapsed": false
   },
   "outputs": [],
   "source": [
    "elem' 3 [1..10]\n",
    "elem' 'a' []\n",
    "elem' 'a' ['x'..'z']"
   ]
  },
  {
   "cell_type": "markdown",
   "metadata": {
    "collapsed": false
   },
   "source": [
    "## 4.3 クイックソート\n",
    "\n",
    "### アルゴリズム\n",
    "\n",
    "```\n",
    "# クイックソートする\n",
    "[5, 1, 9, 4, 6, 7, 3]\n",
    "\n",
    "# 先頭の要素(5)をピボット(軸)にする\n",
    "[5] ++ [1, 9, 4, 6, 7, 3]\n",
    "\n",
    "# 比較して左右に振り分ける\n",
    "[1, 4, 3] ++ [5] ++ [9, 6, 7]\n",
    "\n",
    "# [1,4,3] の先頭の要素(1)をピボット(軸)にする\n",
    "[1] ++ [4, 3] ++ [5] ++ [9, 6, 7]\n",
    "\n",
    "# 比較して左右に振り分ける\n",
    "[] ++ [1] ++ [4, 3] ++ [5] ++ [9, 6, 7]\n",
    "\n",
    "# [4,3] の先頭の要素(4)をピボット(軸)にする\n",
    "[] ++ [1] ++ [4] ++ [3] ++ [5] ++ [9, 6, 7]\n",
    "\n",
    "# 比較して左右に振り分ける\n",
    "[] ++ [1] ++ [3] ++ [4] ++ [] ++ [5] ++ [9, 6, 7]\n",
    "\n",
    "# [9,6,7] の先頭の要素(9)をピボット(軸)にする\n",
    "[] ++ [1] ++ [3] ++ [4] ++ [] ++ [5] ++ [9] ++ [6, 7]\n",
    "```"
   ]
  },
  {
   "cell_type": "markdown",
   "metadata": {
    "collapsed": true
   },
   "source": [
    "### コード"
   ]
  },
  {
   "cell_type": "code",
   "execution_count": 1,
   "metadata": {
    "collapsed": false
   },
   "outputs": [],
   "source": [
    "quicksort :: (Ord a) => [a] -> [a]\n",
    "quicksort [] = []\n",
    "quicksort (x:xs) =\n",
    "  let left = [ e | e <- xs, e <= x ]\n",
    "      right = [ e | e <- xs, e > x ]\n",
    "  in (quicksort left) ++ [x] ++ (quicksort right)"
   ]
  },
  {
   "cell_type": "code",
   "execution_count": 2,
   "metadata": {
    "collapsed": false
   },
   "outputs": [
    {
     "data": {
      "text/plain": [
       "[1,3,4,5,6,7,9]"
      ]
     },
     "metadata": {},
     "output_type": "display_data"
    },
    {
     "data": {
      "text/plain": [
       "\"abcdefghijklmnopqrstuvwxyz\""
      ]
     },
     "metadata": {},
     "output_type": "display_data"
    },
    {
     "data": {
      "text/plain": [
       "\"abcdefghijklmnopqrstuvwxyz\""
      ]
     },
     "metadata": {},
     "output_type": "display_data"
    }
   ],
   "source": [
    "quicksort [5, 1, 9, 4, 6, 7, 3]\n",
    "quicksort ['a'..'z']\n",
    "quicksort ['z','y'..'a']\n",
    "\n",
    "\n",
    "\n",
    "\n",
    "\n",
    "\n",
    "\n",
    "\n",
    "\n",
    "\n",
    "\n",
    "\n",
    "\n",
    "\n",
    "\n",
    "\n",
    "\n",
    "\n",
    "\n"
   ]
  },
  {
   "cell_type": "code",
   "execution_count": 2,
   "metadata": {
    "collapsed": true
   },
   "outputs": [],
   "source": [
    "-- 答え\n",
    "quicksort :: Ord a => [a] -> [a]\n",
    "quicksort [] = []\n",
    "quicksort (x:xs) =\n",
    "  let left = [e | e <- xs, e <= x ]\n",
    "      right = [e | e <- xs, e > x ]\n",
    "  in quicksort left ++ [x] ++ quicksort right"
   ]
  },
  {
   "cell_type": "code",
   "execution_count": 3,
   "metadata": {
    "collapsed": false
   },
   "outputs": [
    {
     "data": {
      "text/plain": [
       "[1,3,4,5,6,7,9]"
      ]
     },
     "metadata": {},
     "output_type": "display_data"
    },
    {
     "data": {
      "text/plain": [
       "\"                    ,?IIIaaaaaaaabddddddeeeefffhhilllmmnooooooooorstttttttttuuwwwwyyyy\""
      ]
     },
     "metadata": {},
     "output_type": "display_data"
    }
   ],
   "source": [
    "quicksort [5, 1, 9, 4, 6, 7, 3]\n",
    "quicksort \"If today were the last day of my life, would I want to do what I am about to do today?\""
   ]
  },
  {
   "cell_type": "markdown",
   "metadata": {},
   "source": [
    "## 4.4 再帰的に考える"
   ]
  },
  {
   "cell_type": "code",
   "execution_count": null,
   "metadata": {
    "collapsed": true
   },
   "outputs": [],
   "source": [
    "-- コツとか"
   ]
  }
 ],
 "metadata": {
  "kernelspec": {
   "display_name": "Haskell",
   "language": "haskell",
   "name": "haskell"
  },
  "language_info": {
   "codemirror_mode": "ihaskell",
   "file_extension": ".hs",
   "name": "haskell",
   "version": "7.10.2"
  }
 },
 "nbformat": 4,
 "nbformat_minor": 0
}
