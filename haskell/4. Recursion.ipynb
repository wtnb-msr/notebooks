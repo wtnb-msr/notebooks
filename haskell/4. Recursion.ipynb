{
 "cells": [
  {
   "cell_type": "markdown",
   "metadata": {},
   "source": [
    "# Hello, 再帰！"
   ]
  },
  {
   "cell_type": "markdown",
   "metadata": {},
   "source": [
    "## 4.1 最高に最高"
   ]
  },
  {
   "cell_type": "code",
   "execution_count": null,
   "metadata": {
    "collapsed": false
   },
   "outputs": [],
   "source": [
    "-- リストの中の最大の要素を返す maximum' をつくる\n",
    "maximum' :: (Ord a) => [a] -> a\n",
    "maximum' [] = error \"empty!\"\n",
    "maximum' [x] = x\n",
    "maximum' (x:xs) = max x (maximum' xs)"
   ]
  },
  {
   "cell_type": "code",
   "execution_count": null,
   "metadata": {
    "collapsed": false
   },
   "outputs": [],
   "source": [
    "maximum' [1..100]\n",
    "maximum' ['z','y'..'a']"
   ]
  },
  {
   "cell_type": "markdown",
   "metadata": {},
   "source": [
    "## 4.2 更にいくつかの再帰関数"
   ]
  },
  {
   "cell_type": "markdown",
   "metadata": {},
   "source": [
    "### replicate"
   ]
  },
  {
   "cell_type": "code",
   "execution_count": null,
   "metadata": {
    "collapsed": true
   },
   "outputs": [],
   "source": [
    "-- Int x と Int y を受け取り、 x を y 回繰り返したリストを返す\n",
    "replicate' :: Int -> Int -> [Int]\n",
    "replicate' x 0 = []\n",
    "replicate' x y = x : (replicate' x (y - 1))"
   ]
  },
  {
   "cell_type": "code",
   "execution_count": null,
   "metadata": {
    "collapsed": false
   },
   "outputs": [],
   "source": [
    "replicate' 1 0\n",
    "replicate' 5 3 "
   ]
  },
  {
   "cell_type": "code",
   "execution_count": null,
   "metadata": {
    "collapsed": false
   },
   "outputs": [],
   "source": [
    "-- y が負のケースを考慮できてなかった\n",
    "-- x の型も汎用に\n",
    "replicate' :: Int -> a -> [a]\n",
    "replicate' n x\n",
    "  | n <= 0 = []\n",
    "  | otherwise = x : replicate' (n - 1) x"
   ]
  },
  {
   "cell_type": "code",
   "execution_count": null,
   "metadata": {
    "collapsed": false
   },
   "outputs": [],
   "source": [
    "replicate' 1 0\n",
    "replicate' 5 3\n",
    "replicate' 5 -1"
   ]
  },
  {
   "cell_type": "markdown",
   "metadata": {},
   "source": [
    "### take\n",
    "指定されたリストから指定された数の要素を返す\n",
    "\n",
    "take 3 [5,4,3,2,1] -> [5,4,3]"
   ]
  },
  {
   "cell_type": "code",
   "execution_count": null,
   "metadata": {
    "collapsed": true
   },
   "outputs": [],
   "source": [
    "take' :: Int -> [a] -> [a]\n",
    "take' n xs\n",
    "  | n <= 0 = []\n",
    "  | otherwise = case xs of x:t"
   ]
  }
 ],
 "metadata": {
  "kernelspec": {
   "display_name": "Haskell",
   "language": "haskell",
   "name": "haskell"
  },
  "language_info": {
   "codemirror_mode": "ihaskell",
   "file_extension": ".hs",
   "name": "haskell",
   "version": "7.10.2"
  }
 },
 "nbformat": 4,
 "nbformat_minor": 0
}
