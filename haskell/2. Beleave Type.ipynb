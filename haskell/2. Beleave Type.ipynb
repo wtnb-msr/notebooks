{
 "cells": [
  {
   "cell_type": "markdown",
   "metadata": {},
   "source": [
    "## 2.1 明示的な型宣言"
   ]
  },
  {
   "cell_type": "code",
   "execution_count": null,
   "metadata": {
    "collapsed": false
   },
   "outputs": [],
   "source": [
    ":t True\n",
    ":t \"Hello\"\n",
    ":t (False, 'a')"
   ]
  },
  {
   "cell_type": "code",
   "execution_count": null,
   "metadata": {
    "collapsed": false
   },
   "outputs": [],
   "source": [
    "removeUpper :: String -> String\n",
    "removeUpper st = [ s | s <- st, s `elem` ['A'..'Z'] ]"
   ]
  },
  {
   "cell_type": "code",
   "execution_count": null,
   "metadata": {
    "collapsed": true
   },
   "outputs": [],
   "source": [
    "addThree :: Int -> Int -> Int -> Int\n",
    "addThree x y z = x + y + z"
   ]
  },
  {
   "cell_type": "markdown",
   "metadata": {},
   "source": [
    "## 2.2 一般的な Haskell の型"
   ]
  },
  {
   "cell_type": "code",
   "execution_count": null,
   "metadata": {
    "collapsed": false
   },
   "outputs": [],
   "source": [
    "-- Int: 有界\n",
    "-- Integer: 非有界\n",
    "\n",
    "factorial :: Integer -> Integer\n",
    "factorial n = product [1..n]"
   ]
  },
  {
   "cell_type": "code",
   "execution_count": null,
   "metadata": {
    "collapsed": false
   },
   "outputs": [],
   "source": [
    "factorial 100"
   ]
  },
  {
   "cell_type": "code",
   "execution_count": null,
   "metadata": {
    "collapsed": true
   },
   "outputs": [],
   "source": [
    "circumference :: Float -> Float\n",
    "circumference r = 2 * r * pi"
   ]
  },
  {
   "cell_type": "code",
   "execution_count": null,
   "metadata": {
    "collapsed": false
   },
   "outputs": [],
   "source": [
    "circumference 10"
   ]
  },
  {
   "cell_type": "code",
   "execution_count": null,
   "metadata": {
    "collapsed": true
   },
   "outputs": [],
   "source": [
    "circumference' :: Double -> Double\n",
    "circumference' r = 2 * r * pi"
   ]
  },
  {
   "cell_type": "code",
   "execution_count": null,
   "metadata": {
    "collapsed": false
   },
   "outputs": [],
   "source": [
    "circumference' 10"
   ]
  },
  {
   "cell_type": "code",
   "execution_count": null,
   "metadata": {
    "collapsed": false
   },
   "outputs": [],
   "source": [
    "-- max tuple size: 62\n",
    "(1,2,3,4,5,6,7,8,9,11,1,1,1,1,1,1,1,1,1,1,1,1,1,1,1,1,1,1,1,1,1,1,1,1,1,1,1,1,1,1,1,1,1,1,1,1,1,1,1,1,1,1,1,1,1,1,1,1,1,1,1,1,1,1,1,1,1,1,1,1,1,1,1,1,1,1,1,1,1,1,1,1,1,1,1)"
   ]
  },
  {
   "cell_type": "markdown",
   "metadata": {},
   "source": [
    "## 2.3 型変数"
   ]
  },
  {
   "cell_type": "code",
   "execution_count": null,
   "metadata": {
    "collapsed": false
   },
   "outputs": [],
   "source": [
    "-- 型変数を用いた関数 => 多相的関数\n",
    ":t head\n",
    "head [1,2,3,4,5]"
   ]
  },
  {
   "cell_type": "code",
   "execution_count": null,
   "metadata": {
    "collapsed": false
   },
   "outputs": [],
   "source": [
    ":t fst\n",
    "fst (1,'c')\n",
    "snd (1,\"abc\")"
   ]
  },
  {
   "cell_type": "markdown",
   "metadata": {},
   "source": [
    "## 型クラス初級口座\n",
    "\n",
    "型クラスは、何らかの振る舞いを定義するインターフェイスです。\n",
    "ある型クラスのインスタンスである型は、その型クラスが記述する振る舞いを実装します。\n",
    "\n",
    "もっと具体的に言うと、型クラスというのは関数の集まりを定めます。\n",
    "ある型クラスに属する関数のことを、その型クラスのメソッドと呼ぶこともあります。"
   ]
  },
  {
   "cell_type": "code",
   "execution_count": null,
   "metadata": {
    "collapsed": false
   },
   "outputs": [],
   "source": [
    "-- :t ==\n",
    ":t (==)\n",
    "1 == 3"
   ]
  },
  {
   "cell_type": "code",
   "execution_count": null,
   "metadata": {
    "collapsed": true
   },
   "outputs": [],
   "source": [
    "-- '=>': 型クラス制約\n",
    "-- 「等値性関数は、同じ型の任意の 2 つの引数を取り、BOOL を返す。引数の 2 つの値の型は Eq クラスのインスタンスでなければならない"
   ]
  },
  {
   "cell_type": "markdown",
   "metadata": {},
   "source": [
    "### Eq 型クラス"
   ]
  },
  {
   "cell_type": "code",
   "execution_count": null,
   "metadata": {
    "collapsed": false
   },
   "outputs": [],
   "source": [
    "5 == 5\n",
    "5 /= 5\n",
    "'a' == 'a'\n",
    "\"Ho\" == \"Ho\"\n",
    "3.14 == 3.14\n",
    "5 == 5.0\n",
    "'a' == 5.0"
   ]
  },
  {
   "cell_type": "markdown",
   "metadata": {
    "collapsed": true
   },
   "source": [
    "### Ord 型クラス\n",
    "\n",
    "'>', '>=', '<', '<='"
   ]
  },
  {
   "cell_type": "code",
   "execution_count": null,
   "metadata": {
    "collapsed": false
   },
   "outputs": [],
   "source": [
    ":t (>)"
   ]
  },
  {
   "cell_type": "code",
   "execution_count": null,
   "metadata": {
    "collapsed": false
   },
   "outputs": [],
   "source": [
    "--\"BRAKADABRAEBRA\" < \"Zebra\"\n",
    "--\"BRAKADABRAEBRA\" `compare` \"Zebra\"\n",
    "--5 >= 2\n",
    "--5 `compare` 3\n",
    "--3 `compare` 3\n",
    "--'b' >= 'a'\n",
    "\n",
    "4 GT 3"
   ]
  },
  {
   "cell_type": "markdown",
   "metadata": {},
   "source": [
    "### Show 型クラス"
   ]
  },
  {
   "cell_type": "code",
   "execution_count": null,
   "metadata": {
    "collapsed": false
   },
   "outputs": [],
   "source": [
    "show 3\n",
    "show 5.334\n",
    "show True"
   ]
  },
  {
   "cell_type": "markdown",
   "metadata": {},
   "source": [
    "### Read 型クラス\n"
   ]
  },
  {
   "cell_type": "code",
   "execution_count": null,
   "metadata": {
    "collapsed": false
   },
   "outputs": [],
   "source": [
    "read \"True\" || False\n",
    "read \"8.2\" + 3.4\n",
    "read \"5\" - 2\n",
    "read \"[1,2,3,4]\" ++ [5]"
   ]
  },
  {
   "cell_type": "code",
   "execution_count": null,
   "metadata": {
    "collapsed": false
   },
   "outputs": [],
   "source": [
    "read \"4\" -- Int, Integer, Float"
   ]
  },
  {
   "cell_type": "code",
   "execution_count": null,
   "metadata": {
    "collapsed": false
   },
   "outputs": [],
   "source": [
    ":t read"
   ]
  },
  {
   "cell_type": "code",
   "execution_count": null,
   "metadata": {
    "collapsed": false
   },
   "outputs": [],
   "source": [
    "read \"4\" :: Int\n",
    "read \"5\" :: Float\n",
    "(read \"5\" :: Float) * 4\n",
    "read \"[1,2,3,4]\" :: [Int]\n",
    "read \"(1, '3')\" :: (Int, Char)"
   ]
  },
  {
   "cell_type": "code",
   "execution_count": null,
   "metadata": {
    "collapsed": false
   },
   "outputs": [],
   "source": [
    "[read \"True\", False, True]\n",
    "--[\"True\", read \"True\" :: String, \"True\", \"False\"] 動かない\n"
   ]
  },
  {
   "cell_type": "markdown",
   "metadata": {},
   "source": [
    "### Enum 型クラス\n",
    "(), Bool, Char, Ordering, Int, Integer, Float, Double など"
   ]
  },
  {
   "cell_type": "code",
   "execution_count": null,
   "metadata": {
    "collapsed": false
   },
   "outputs": [],
   "source": [
    "['a'..'e']\n",
    "[LT .. GT] \n",
    "[3..5]\n",
    "succ 'b'\n",
    "pred 'z'"
   ]
  },
  {
   "cell_type": "markdown",
   "metadata": {},
   "source": [
    "### Bounded 型クラス"
   ]
  },
  {
   "cell_type": "code",
   "execution_count": null,
   "metadata": {
    "collapsed": false
   },
   "outputs": [],
   "source": [
    "-- ghci で\n",
    "minBound :: Int\n",
    "maxBound :: Char\n",
    "maxBound :: Bool\n",
    "minBound :: Bool"
   ]
  },
  {
   "cell_type": "code",
   "execution_count": null,
   "metadata": {
    "collapsed": false
   },
   "outputs": [],
   "source": [
    "-- 多相定数\n",
    "-- パラメータ多相 (parametric polymorphism) とは、ある値の型が 1つもしくは複数の (制限の無い) 型変数を含むことを指し、\n",
    "-- その値は型変数を具象型によって置換することによって得られる型ならどれでも採用することができる。\n",
    ":t minBound"
   ]
  },
  {
   "cell_type": "code",
   "execution_count": null,
   "metadata": {
    "collapsed": false
   },
   "outputs": [],
   "source": [
    "minBound :: (Int, Char, Bool)"
   ]
  },
  {
   "cell_type": "markdown",
   "metadata": {},
   "source": [
    "### Num 型クラス"
   ]
  },
  {
   "cell_type": "code",
   "execution_count": null,
   "metadata": {
    "collapsed": false
   },
   "outputs": [],
   "source": [
    ":t 20"
   ]
  },
  {
   "cell_type": "code",
   "execution_count": null,
   "metadata": {
    "collapsed": false
   },
   "outputs": [],
   "source": [
    "-- Num も多相定数\n",
    "20 :: Int\n",
    "20 :: Integer\n",
    "20 :: Float\n",
    "20 :: Double"
   ]
  },
  {
   "cell_type": "code",
   "execution_count": null,
   "metadata": {
    "collapsed": false
   },
   "outputs": [],
   "source": [
    ":t (*)"
   ]
  },
  {
   "cell_type": "code",
   "execution_count": null,
   "metadata": {
    "collapsed": false
   },
   "outputs": [],
   "source": [
    "(5 :: Int) * (6 :: Double)"
   ]
  },
  {
   "cell_type": "code",
   "execution_count": null,
   "metadata": {
    "collapsed": false
   },
   "outputs": [],
   "source": [
    "5 * (6 :: Double)"
   ]
  },
  {
   "cell_type": "code",
   "execution_count": null,
   "metadata": {
    "collapsed": true
   },
   "outputs": [],
   "source": [
    "-- ある型を Num のインスタンスにするには、その型がすでに Show と Eq のインスタンスになっている必要があります"
   ]
  },
  {
   "cell_type": "markdown",
   "metadata": {},
   "source": [
    "### Floating 型クラス\n",
    "\n",
    "Float と Double が含まれる\n",
    "\n",
    "例) sin, cos, sqrt"
   ]
  },
  {
   "cell_type": "markdown",
   "metadata": {},
   "source": [
    "### Integral 型クラス\n",
    "Int と Integer を含む\n",
    "\n",
    "- Num : 実数全体\n",
    "- Integral : 整数全体\n",
    "\n"
   ]
  },
  {
   "cell_type": "code",
   "execution_count": null,
   "metadata": {
    "collapsed": false
   },
   "outputs": [],
   "source": [
    "-- 整数と浮動小数点数を同時に使いたいときに便利\n",
    ":t fromIntegral"
   ]
  },
  {
   "cell_type": "code",
   "execution_count": null,
   "metadata": {
    "collapsed": false
   },
   "outputs": [],
   "source": [
    ":t length"
   ]
  },
  {
   "cell_type": "code",
   "execution_count": null,
   "metadata": {
    "collapsed": false
   },
   "outputs": [],
   "source": [
    "--length [1,2,3,4] + 3.2\n",
    "-- 4 :: Int + 3.2 :: Float\n",
    ":t length\n",
    "fromIntegral(length [1,2,3,4]) + 3.2\n",
    "fromIntegral(4 :: Int) + 3.2\n",
    "(4  Num) :: Float + 3.2 :: Float"
   ]
  },
  {
   "cell_type": "markdown",
   "metadata": {
    "collapsed": true
   },
   "source": [
    "## 型と型クラス\n",
    "\n",
    "\n",
    "![img](https://raw.githubusercontent.com/tokiwoousaka/YuruhuwaHaskell/master/tutorial/Classes.png)\n",
    "\n",
    "例えば、Double型はNum型クラスとShow型クラスに属しますが、Bounded型クラスには属していません。\n",
    "この事を、「Double型はNum型クラス、Show型クラスのインスタンス」と言います。(OOのクラスのインスタンスとは意味が違うので注意してください。)"
   ]
  },
  {
   "cell_type": "code",
   "execution_count": null,
   "metadata": {
    "collapsed": false
   },
   "outputs": [],
   "source": [
    "(1.0 :: Float) * (2.1 :: Double)"
   ]
  },
  {
   "cell_type": "code",
   "execution_count": null,
   "metadata": {
    "collapsed": true
   },
   "outputs": [],
   "source": []
  }
 ],
 "metadata": {
  "kernelspec": {
   "display_name": "Haskell",
   "language": "haskell",
   "name": "haskell"
  },
  "language_info": {
   "codemirror_mode": "ihaskell",
   "file_extension": ".hs",
   "name": "haskell",
   "version": "7.10.2"
  }
 },
 "nbformat": 4,
 "nbformat_minor": 0
}
