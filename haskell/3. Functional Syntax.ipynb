{
 "cells": [
  {
   "cell_type": "markdown",
   "metadata": {},
   "source": [
    "## 3.1 パターンマッチ"
   ]
  },
  {
   "cell_type": "code",
   "execution_count": null,
   "metadata": {
    "collapsed": true
   },
   "outputs": [],
   "source": [
    "-- パターンマッチの書き方\n",
    "lucky :: Int -> String\n",
    "lucky 7 = \"Lucky Seven!!\"\n",
    "lucky x = \"Ooops!\""
   ]
  },
  {
   "cell_type": "code",
   "execution_count": null,
   "metadata": {
    "collapsed": false
   },
   "outputs": [],
   "source": [
    "lucky 7\n",
    "lucky 3"
   ]
  },
  {
   "cell_type": "code",
   "execution_count": null,
   "metadata": {
    "collapsed": false
   },
   "outputs": [],
   "source": [
    "-- 定義の順序を逆にすると\n",
    "lucky :: Int -> String\n",
    "lucky x = \"Ooops!\"\n",
    "lucky 7 = \"Lucky Seven!!\"\n",
    "\n",
    "lucky 7\n",
    "lucky 3"
   ]
  },
  {
   "cell_type": "code",
   "execution_count": null,
   "metadata": {
    "collapsed": false
   },
   "outputs": [],
   "source": [
    "-- パターンは複数定義できる\n",
    "sayMe :: Int -> String\n",
    "sayMe 1 = \"One\"\n",
    "sayMe 2 = \"Two\"\n",
    "sayMe 3 = \"Three\"\n",
    "sayMe x = show x\n",
    "--seyMe x = \"Not between 1 and 3\""
   ]
  },
  {
   "cell_type": "code",
   "execution_count": null,
   "metadata": {
    "collapsed": false
   },
   "outputs": [],
   "source": [
    "sayMe 3\n",
    "sayMe 10"
   ]
  },
  {
   "cell_type": "code",
   "execution_count": null,
   "metadata": {
    "collapsed": true
   },
   "outputs": [],
   "source": [
    "-- 再帰の定義もパターンマッチで出来る\n",
    "-- f(n) = n!\n",
    "\n",
    "factorial :: Int -> Int\n",
    "factorial 0 = 1\n",
    "factorial x = x * factorial (x - 1)"
   ]
  },
  {
   "cell_type": "code",
   "execution_count": null,
   "metadata": {
    "collapsed": false
   },
   "outputs": [],
   "source": [
    "factorial 10"
   ]
  },
  {
   "cell_type": "code",
   "execution_count": null,
   "metadata": {
    "collapsed": true
   },
   "outputs": [],
   "source": [
    "-- パターンにマッチしない場合..\n",
    "\n",
    "charName :: Char -> String\n",
    "charName 'a' = \"alpha\"\n",
    "charName 'b' = \"beta\"\n",
    "charName x = \"a\""
   ]
  },
  {
   "cell_type": "code",
   "execution_count": null,
   "metadata": {
    "collapsed": false
   },
   "outputs": [],
   "source": [
    "charName 'a'\n",
    "charName 'c'"
   ]
  },
  {
   "cell_type": "markdown",
   "metadata": {},
   "source": [
    "### タプルのパターンマッチ"
   ]
  },
  {
   "cell_type": "code",
   "execution_count": null,
   "metadata": {
    "collapsed": true
   },
   "outputs": [],
   "source": [
    "-- タプルでベクトル同士の和を計算する\n",
    "addVector :: (Double, Double) -> (Double, Double) -> (Double, Double)\n",
    "addVector v1 v2 = (fst v1 + fst v2, snd v1 + snd v2)"
   ]
  },
  {
   "cell_type": "code",
   "execution_count": null,
   "metadata": {
    "collapsed": false
   },
   "outputs": [],
   "source": [
    "addVector (1.0, 1.0) (2.0, 3.0)"
   ]
  },
  {
   "cell_type": "code",
   "execution_count": null,
   "metadata": {
    "collapsed": true
   },
   "outputs": [],
   "source": [
    "-- パターンマッチで綺麗に書ける\n",
    "addVector :: (Double, Double) -> (Double, Double) -> (Double, Double)\n",
    "addVector (x1, y1) (x2, y2) = (x1 + x2, y1 + y2)"
   ]
  },
  {
   "cell_type": "code",
   "execution_count": null,
   "metadata": {
    "collapsed": false
   },
   "outputs": [],
   "source": [
    "addVector (1.0, 1.0) (2.0, 3.0)"
   ]
  },
  {
   "cell_type": "code",
   "execution_count": null,
   "metadata": {
    "collapsed": false
   },
   "outputs": [],
   "source": [
    "-- タプルの要素が3つある場合は...\n",
    "\n",
    "head [1..10]\n",
    "tail [1..10]\n",
    "\n",
    "init [1..10]\n",
    "last [1..10]\n",
    "\n",
    "first :: (a, b, c) -> a\n",
    "first (a, _, _) = a\n",
    "\n",
    "second :: (a, b, c) -> b\n",
    "second (_, b, _) = b\n",
    "\n",
    "third :: (a, b, c) -> c\n",
    "third (_, _, c) = c"
   ]
  },
  {
   "cell_type": "markdown",
   "metadata": {},
   "source": [
    "### リストのパターンマッチとリスト内包表記"
   ]
  },
  {
   "cell_type": "code",
   "execution_count": null,
   "metadata": {
    "collapsed": false
   },
   "outputs": [],
   "source": [
    "-- タプルのリスト\n",
    "let xs = [(1,3), (1,4), (2,5), (2,6), (2,7)]\n",
    "[ a * 100 + b | (a, b) <- xs]"
   ]
  },
  {
   "cell_type": "code",
   "execution_count": null,
   "metadata": {
    "collapsed": false
   },
   "outputs": [],
   "source": [
    "-- タプルの1つめの要素が 1 だけパターンマッチで取り出す\n",
    "[ 1 * 100 + x | (1, x) <- xs ]\n",
    "[ a * 100 + x | (a, x) <- xs, a == 1]"
   ]
  },
  {
   "cell_type": "code",
   "execution_count": null,
   "metadata": {
    "collapsed": false
   },
   "outputs": [],
   "source": [
    "-- パターンマッチで head 関数を自作する\n",
    "\"abd\" == 'a':'b':'d':[]\n",
    "myHead :: [x] -> x\n",
    "myHead [] = error \"error やで\"\n",
    "myHead (x : _) = x"
   ]
  },
  {
   "cell_type": "code",
   "execution_count": null,
   "metadata": {
    "collapsed": false
   },
   "outputs": [],
   "source": [
    "head [3,2,1]\n",
    "myHead \"head\"\n",
    "myHead \"\""
   ]
  },
  {
   "cell_type": "code",
   "execution_count": null,
   "metadata": {
    "collapsed": true
   },
   "outputs": [],
   "source": [
    "-- 周りくどい書き方\n",
    "tell :: Show a => [a] -> String\n",
    "tell [] = \"the list is empty.\"\n",
    "tell (x:[]) = \"the list have 1 element. \" ++ (show x)\n",
    "tell (x:y:[]) = \"the list have 2 elements. \" ++ (show x) ++ \" and \" ++ (show y)\n",
    "tell (x:y:_) = \"the list is one of the longest list, i think\""
   ]
  },
  {
   "cell_type": "code",
   "execution_count": null,
   "metadata": {
    "collapsed": false
   },
   "outputs": [],
   "source": [
    "tell []\n",
    "tell [1]\n",
    "tell [True, False]\n",
    "tell [1..10]"
   ]
  },
  {
   "cell_type": "markdown",
   "metadata": {},
   "source": [
    "### as パターン"
   ]
  },
  {
   "cell_type": "code",
   "execution_count": null,
   "metadata": {
    "collapsed": false
   },
   "outputs": [],
   "source": [
    "-- '@' で取り出す\n",
    "firstLetter :: Show a => [a] -> String\n",
    "firstLetter [] = \"EMPTY!!!!!!!!!!!!!!!!!!!!\"\n",
    "firstLetter xs @ (x:_) = (show xs) ++ \" : \" ++ (show x)"
   ]
  },
  {
   "cell_type": "code",
   "execution_count": null,
   "metadata": {
    "collapsed": false
   },
   "outputs": [],
   "source": [
    "firstLetter \"\"\n",
    "firstLetter \"Lodeo Man\""
   ]
  },
  {
   "cell_type": "markdown",
   "metadata": {
    "collapsed": true
   },
   "source": [
    "## 3.2 場合分けして、きっちりガード"
   ]
  },
  {
   "cell_type": "code",
   "execution_count": 1,
   "metadata": {
    "collapsed": false
   },
   "outputs": [],
   "source": [
    "-- パイプをつないでガードが書ける\n",
    "tellBMI :: Double -> String\n",
    "tellBMI\n",
    "  | bmi <= 18.5 = \"You're underweight, you emo, you!\"\n",
    "  | bmi <= 25.0 = \"You're supposedly normal. \\\n",
    "                  \\Pffft, I bet you're ugly!\"\n",
    "  | bmi <= 30.0 = \"You're fat! Lose some weight, fatty!\"\n",
    "  | otherwise   = \"You're a whale, congratulation!\""
   ]
  },
  {
   "cell_type": "code",
   "execution_count": 2,
   "metadata": {
    "collapsed": false
   },
   "outputs": [
    {
     "data": {
      "text/plain": [
       "\"You're underweight, you emo, you!\""
      ]
     },
     "metadata": {},
     "output_type": "display_data"
    },
    {
     "data": {
      "text/plain": [
       "\"You're supposedly normal. Pffft, I bet you're ugly!\""
      ]
     },
     "metadata": {},
     "output_type": "display_data"
    },
    {
     "data": {
      "text/plain": [
       "\"You're fat! Lose some weight, fatty!\""
      ]
     },
     "metadata": {},
     "output_type": "display_data"
    },
    {
     "data": {
      "text/plain": [
       "\"You're a whale, congratulation!\""
      ]
     },
     "metadata": {},
     "output_type": "display_data"
    }
   ],
   "source": [
    "tellBMI 18.0\n",
    "tellBMI 22.5\n",
    "tellBMI 29.0\n",
    "tellBMI 100.0"
   ]
  },
  {
   "cell_type": "code",
   "execution_count": 3,
   "metadata": {
    "collapsed": true
   },
   "outputs": [],
   "source": [
    "-- BMI を計算できるようにする\n",
    "tellBMI :: Double -> Double -> String\n",
    "tellBMI weight height\n",
    "  | weight / height ^ 2 <= 18.5 = \"You're underweight, you emo, you!\"\n",
    "  | weight / height ^ 2 <= 25.0 = \"You're supposedly normal. \\\n",
    "                                  \\Pffft, I bet you're ugly!\"\n",
    "  | weight / height ^ 2 <= 30.0 = \"You're fat! Lose some weight, fatty!\"\n",
    "  | otherwise   = \"You're a whale, congratulation!\""
   ]
  },
  {
   "cell_type": "code",
   "execution_count": 4,
   "metadata": {
    "collapsed": false
   },
   "outputs": [
    {
     "data": {
      "text/plain": [
       "\"You're a whale, congratulation!\""
      ]
     },
     "metadata": {},
     "output_type": "display_data"
    },
    {
     "data": {
      "text/plain": [
       "\"You're underweight, you emo, you!\""
      ]
     },
     "metadata": {},
     "output_type": "display_data"
    },
    {
     "data": {
      "text/plain": [
       "\"You're supposedly normal. Pffft, I bet you're ugly!\""
      ]
     },
     "metadata": {},
     "output_type": "display_data"
    },
    {
     "data": {
      "text/plain": [
       "\"You're a whale, congratulation!\""
      ]
     },
     "metadata": {},
     "output_type": "display_data"
    }
   ],
   "source": [
    "-- 体重、身長(m)\n",
    "tellBMI 100 1.8\n",
    "tellBMI 45 1.6\n",
    "tellBMI 65 1.7\n",
    "tellBMI 250 1.6"
   ]
  },
  {
   "cell_type": "code",
   "execution_count": 5,
   "metadata": {
    "collapsed": true
   },
   "outputs": [],
   "source": [
    "-- 自作 max 関数\n",
    "myMax :: Ord a => a -> a -> a\n",
    "myMax x y\n",
    "  | x >= y    = x\n",
    "  | otherwise = y"
   ]
  },
  {
   "cell_type": "code",
   "execution_count": 8,
   "metadata": {
    "collapsed": false
   },
   "outputs": [
    {
     "data": {
      "text/plain": [
       "10.0"
      ]
     },
     "metadata": {},
     "output_type": "display_data"
    },
    {
     "data": {
      "text/plain": [
       "'d'"
      ]
     },
     "metadata": {},
     "output_type": "display_data"
    }
   ],
   "source": [
    "myMax 1 10.0\n",
    "myMax 'd' 'c'"
   ]
  },
  {
   "cell_type": "code",
   "execution_count": 9,
   "metadata": {
    "collapsed": true
   },
   "outputs": [],
   "source": [
    "-- 自作 compare 関数\n",
    "myCompare :: Ord a => a -> a -> Ordering\n",
    "x `myCompare` y\n",
    "  | x >  y = GT\n",
    "  | x == y = EQ\n",
    "  | x <  y = LT"
   ]
  },
  {
   "cell_type": "code",
   "execution_count": 10,
   "metadata": {
    "collapsed": false
   },
   "outputs": [
    {
     "data": {
      "text/plain": [
       "LT"
      ]
     },
     "metadata": {},
     "output_type": "display_data"
    },
    {
     "data": {
      "text/plain": [
       "GT"
      ]
     },
     "metadata": {},
     "output_type": "display_data"
    },
    {
     "data": {
      "text/plain": [
       "EQ"
      ]
     },
     "metadata": {},
     "output_type": "display_data"
    }
   ],
   "source": [
    "myCompare 10 12\n",
    "'z' `myCompare` 'a'\n",
    "\"abc\" `myCompare` \"abc\""
   ]
  },
  {
   "cell_type": "markdown",
   "metadata": {},
   "source": [
    "## 3.3 where !?\n",
    "\n",
    "where を使って計算の中間結果に名前を付けられる"
   ]
  },
  {
   "cell_type": "code",
   "execution_count": null,
   "metadata": {
    "collapsed": true
   },
   "outputs": [],
   "source": [
    "-- (再掲) 計算がかぶる\n",
    "tellBMI :: Double -> Double -> String\n",
    "tellBMI weight height\n",
    "  | weight / height ^ 2 <= 18.5 = \"You're underweight, you emo, you!\"\n",
    "  | weight / height ^ 2 <= 25.0 = \"You're supposedly normal. \\\n",
    "                                  \\Pffft, I bet you're ugly!\"\n",
    "  | weight / height ^ 2 <= 30.0 = \"You're fat! Lose some weight, fatty!\"\n",
    "  | otherwise                   = \"You're a whale, congratulation!\""
   ]
  },
  {
   "cell_type": "code",
   "execution_count": 11,
   "metadata": {
    "collapsed": true
   },
   "outputs": [],
   "source": [
    "-- where で計算を省く\n",
    "tellBMI :: Double -> Double -> String\n",
    "tellBMI weight height\n",
    "  | bmi <= 18.5 = \"You're underweight, you emo, you!\"\n",
    "  | bmi <= 25.0 = \"You're supposedly normal. \\\n",
    "                  \\Pffft, I bet you're ugly!\"\n",
    "  | bmi <= 30.0 = \"You're fat! Lose some weight, fatty!\"\n",
    "  | otherwise   = \"You're a whale, congratulation!\"\n",
    "  where bmi = weight / height ^ 2"
   ]
  },
  {
   "cell_type": "code",
   "execution_count": null,
   "metadata": {
    "collapsed": false
   },
   "outputs": [],
   "source": [
    "-- where には複数書ける\n",
    "tellBMI :: Double -> Double -> String\n",
    "tellBMI weight height\n",
    "  | bmi <= skinny = \"You're underweight, you emo, you!\"\n",
    "  | bmi <= normal = \"You're supposedly normal. \\\n",
    "                  \\Pffft, I bet you're ugly!\"\n",
    "  | bmi <= fat    = \"You're fat! Lose some weight, fatty!\"\n",
    "  | otherwise     = \"You're a whale, congratulation!\"\n",
    "  where\n",
    "    bmi = weight / height ^ 2\n",
    "    skinny = 18.5\n",
    "    normal = 25.0\n",
    "    fat = 30.0\n",
    "\n",
    "-- ↑インデントは揃えないとダメ"
   ]
  },
  {
   "cell_type": "markdown",
   "metadata": {},
   "source": [
    "### where のスコープ"
   ]
  },
  {
   "cell_type": "code",
   "execution_count": 12,
   "metadata": {
    "collapsed": false
   },
   "outputs": [
    {
     "data": {
      "text/html": [
       "<style>/* Styles used for the Hoogle display in the pager */\n",
       ".hoogle-doc {\n",
       "display: block;\n",
       "padding-bottom: 1.3em;\n",
       "padding-left: 0.4em;\n",
       "}\n",
       ".hoogle-code {\n",
       "display: block;\n",
       "font-family: monospace;\n",
       "white-space: pre;\n",
       "}\n",
       ".hoogle-text {\n",
       "display: block;\n",
       "}\n",
       ".hoogle-name {\n",
       "color: green;\n",
       "font-weight: bold;\n",
       "}\n",
       ".hoogle-head {\n",
       "font-weight: bold;\n",
       "}\n",
       ".hoogle-sub {\n",
       "display: block;\n",
       "margin-left: 0.4em;\n",
       "}\n",
       ".hoogle-package {\n",
       "font-weight: bold;\n",
       "font-style: italic;\n",
       "}\n",
       ".hoogle-module {\n",
       "font-weight: bold;\n",
       "}\n",
       ".hoogle-class {\n",
       "font-weight: bold;\n",
       "}\n",
       ".get-type {\n",
       "color: green;\n",
       "font-weight: bold;\n",
       "font-family: monospace;\n",
       "display: block;\n",
       "white-space: pre-wrap;\n",
       "}\n",
       ".show-type {\n",
       "color: green;\n",
       "font-weight: bold;\n",
       "font-family: monospace;\n",
       "margin-left: 1em;\n",
       "}\n",
       ".mono {\n",
       "font-family: monospace;\n",
       "display: block;\n",
       "}\n",
       ".err-msg {\n",
       "color: red;\n",
       "font-style: italic;\n",
       "font-family: monospace;\n",
       "white-space: pre;\n",
       "display: block;\n",
       "}\n",
       "#unshowable {\n",
       "color: red;\n",
       "font-weight: bold;\n",
       "}\n",
       ".err-msg.in.collapse {\n",
       "padding-top: 0.7em;\n",
       "}\n",
       ".highlight-code {\n",
       "white-space: pre;\n",
       "font-family: monospace;\n",
       "}\n",
       ".suggestion-warning { \n",
       "font-weight: bold;\n",
       "color: rgb(200, 130, 0);\n",
       "}\n",
       ".suggestion-error { \n",
       "font-weight: bold;\n",
       "color: red;\n",
       "}\n",
       ".suggestion-name {\n",
       "font-weight: bold;\n",
       "}\n",
       "</style><span class='err-msg'>Not in scope: `hi'<br/>Perhaps you meant `pi' (imported from Prelude)<br/><br/><br/>Not in scope: `hello'<br/><br/><br/>Not in scope: `goodbye'<br/>Perhaps you meant `goodby' (line 7)</span>"
      ],
      "text/plain": [
       "Not in scope: `hi'\n",
       "Perhaps you meant `pi' (imported from Prelude)\n",
       "\n",
       "\n",
       "Not in scope: `hello'\n",
       "\n",
       "\n",
       "Not in scope: `goodbye'\n",
       "Perhaps you meant `goodby' (line 7)"
      ]
     },
     "metadata": {},
     "output_type": "display_data"
    }
   ],
   "source": [
    "-- 定義した関数内でのみ、有効\n",
    "greet :: String -> String\n",
    "greet \"John\" = hi ++ \" John!\"\n",
    "greet \"Mary\" = hello \" Mary?\"\n",
    "greet name = goodbye ++ \" \" ++ name\n",
    "  where hi = \"Hi!\"\n",
    "        hello = \"Hello,\"\n",
    "        goodby = \"Goodbye?\""
   ]
  },
  {
   "cell_type": "code",
   "execution_count": 17,
   "metadata": {
    "collapsed": false
   },
   "outputs": [],
   "source": [
    "-- 関数外で使うなら、別途定義\n",
    "hi :: String\n",
    "hi = \"Hi!\"\n",
    "--hello :: String\n",
    "--hello = \"Hello?\"\n",
    "\n",
    "greet :: String -> String\n",
    "greet \"John\" = hi ++ \" John!\"\n",
    "greet \"Mary\" = hello ++ \" Mary?\"\n",
    "  where hello = \"hello\"\n",
    "  \n",
    "greet name = goodbye ++ \" \" ++ name\n",
    "  where goodbye = \"Goodbye\""
   ]
  },
  {
   "cell_type": "code",
   "execution_count": 18,
   "metadata": {
    "collapsed": false
   },
   "outputs": [
    {
     "data": {
      "text/plain": [
       "\"Hi! John!\""
      ]
     },
     "metadata": {},
     "output_type": "display_data"
    },
    {
     "data": {
      "text/plain": [
       "\"hello Mary?\""
      ]
     },
     "metadata": {},
     "output_type": "display_data"
    },
    {
     "data": {
      "text/plain": [
       "\"Goodbye Jonathan\""
      ]
     },
     "metadata": {},
     "output_type": "display_data"
    }
   ],
   "source": [
    "greet \"John\"\n",
    "greet \"Mary\"\n",
    "greet \"Jonathan\""
   ]
  },
  {
   "cell_type": "code",
   "execution_count": null,
   "metadata": {
    "collapsed": true
   },
   "outputs": [],
   "source": []
  }
 ],
 "metadata": {
  "kernelspec": {
   "display_name": "Haskell",
   "language": "haskell",
   "name": "haskell"
  },
  "language_info": {
   "codemirror_mode": "ihaskell",
   "file_extension": ".hs",
   "name": "haskell",
   "version": "7.10.2"
  }
 },
 "nbformat": 4,
 "nbformat_minor": 0
}
